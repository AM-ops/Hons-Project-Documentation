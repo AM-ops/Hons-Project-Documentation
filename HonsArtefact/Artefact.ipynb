{
  "nbformat": 4,
  "nbformat_minor": 5,
  "metadata": {
    "kernelspec": {
      "display_name": "Python 3 (ipykernel)",
      "language": "python",
      "name": "python3"
    },
    "language_info": {
      "codemirror_mode": {
        "name": "ipython",
        "version": 3
      },
      "file_extension": ".py",
      "mimetype": "text/x-python",
      "name": "python",
      "nbconvert_exporter": "python",
      "pygments_lexer": "ipython3",
      "version": "3.8.12"
    },
    "colab": {
      "name": "Artefact.ipynb",
      "provenance": [],
      "collapsed_sections": []
    }
  },
  "cells": [
    {
      "cell_type": "markdown",
      "metadata": {
        "id": "hJsNDMrREP8t"
      },
      "source": [
        "Installing all the Libraries and Packages needed"
      ],
      "id": "hJsNDMrREP8t"
    },
    {
      "cell_type": "code",
      "metadata": {
        "id": "UCu-ezscEJxW"
      },
      "source": [
        "!pip install geopandas\n",
        "!pip install rioxarray\n",
        "!pip install folium\n",
        "!pip install opencv-contrib-python"
      ],
      "id": "UCu-ezscEJxW",
      "execution_count": null,
      "outputs": []
    },
    {
      "cell_type": "markdown",
      "metadata": {
        "id": "GlMDhC2QTpQz"
      },
      "source": [
        "Importing all the Libraries installed above"
      ],
      "id": "GlMDhC2QTpQz"
    },
    {
      "cell_type": "code",
      "metadata": {
        "id": "0bbb9445"
      },
      "source": [
        "import numpy as np\n",
        "import geopandas as gpd\n",
        "import rioxarray\n",
        "import matplotlib.pyplot as plt\n",
        "from shapely.geometry import Point, Polygon\n",
        "import folium\n",
        "from sklearn.metrics import cohen_kappa_score\n",
        "from google.colab import drive\n",
        "import cv2"
      ],
      "id": "0bbb9445",
      "execution_count": 14,
      "outputs": []
    },
    {
      "cell_type": "markdown",
      "metadata": {
        "id": "VrLIluiiT-5a"
      },
      "source": [
        "Mounting my Google Drive where Data was uploaded to"
      ],
      "id": "VrLIluiiT-5a"
    },
    {
      "cell_type": "code",
      "metadata": {
        "colab": {
          "base_uri": "https://localhost:8080/"
        },
        "id": "6d932ce0",
        "outputId": "1b5ffe37-49b0-4367-ce9f-c6387d222f45"
      },
      "source": [
        "drive.mount('/content/drive/')"
      ],
      "id": "6d932ce0",
      "execution_count": 3,
      "outputs": [
        {
          "output_type": "stream",
          "name": "stdout",
          "text": [
            "Mounted at /content/drive/\n"
          ]
        }
      ]
    },
    {
      "cell_type": "markdown",
      "metadata": {
        "id": "8XQ8ijz6UHEp"
      },
      "source": [
        "Read the *Melusi* area file to get the Boundaries"
      ],
      "id": "8XQ8ijz6UHEp"
    },
    {
      "cell_type": "code",
      "metadata": {
        "id": "09145050"
      },
      "source": [
        "melusi_area = gpd.read_file('/content/drive/MyDrive/HonsProj-Data/GTI_Data_Delivery20210902/SHP/Melusi_Area.shp')"
      ],
      "id": "09145050",
      "execution_count": 4,
      "outputs": []
    },
    {
      "cell_type": "code",
      "metadata": {
        "id": "0d769dfe",
        "colab": {
          "base_uri": "https://localhost:8080/",
          "height": 199
        },
        "outputId": "4eb1c7f2-a215-49e1-f3e5-e91cda2b6c39"
      },
      "source": [
        "melusi_area.plot(color=\"black\")"
      ],
      "id": "0d769dfe",
      "execution_count": 5,
      "outputs": [
        {
          "output_type": "execute_result",
          "data": {
            "text/plain": [
              "<matplotlib.axes._subplots.AxesSubplot at 0x7f33e9c1fb10>"
            ]
          },
          "metadata": {},
          "execution_count": 5
        },
        {
          "output_type": "display_data",
          "data": {
            "image/png": "[encoded data removed]",
            "text/plain": [
              "<Figure size 432x288 with 1 Axes>"
            ]
          },
          "metadata": {
            "needs_background": "light"
          }
        }
      ]
    },
    {
      "cell_type": "code",
      "metadata": {
        "colab": {
          "base_uri": "https://localhost:8080/"
        },
        "id": "z8QwhL3qVJ1Z",
        "outputId": "045a35c9-796d-4a9c-98c8-26a486e75cf6"
      },
      "source": [
        "melusi_area.total_bounds"
      ],
      "id": "z8QwhL3qVJ1Z",
      "execution_count": 6,
      "outputs": [
        {
          "output_type": "execute_result",
          "data": {
            "text/plain": [
              "array([ 28.09795264, -25.72762111,  28.13242493, -25.71553163])"
            ]
          },
          "metadata": {},
          "execution_count": 6
        }
      ]
    },
    {
      "cell_type": "code",
      "metadata": {
        "id": "a92284ee"
      },
      "source": [
        "xmin, ymin, xmax, ymax = melusi_area.total_bounds"
      ],
      "id": "a92284ee",
      "execution_count": 12,
      "outputs": []
    },
    {
      "cell_type": "markdown",
      "metadata": {
        "id": "5VIjaR5sVXQA"
      },
      "source": [
        "Create first interactive map of the *Melusi* Area"
      ],
      "id": "5VIjaR5sVXQA"
    },
    {
      "cell_type": "code",
      "metadata": {
        "id": "72248287"
      },
      "source": [
        "map1 = folium.Map(location=[-25.72,28.11], tiles='OpenStreetMap', zoom_start=15)"
      ],
      "id": "72248287",
      "execution_count": 8,
      "outputs": []
    },
    {
      "cell_type": "markdown",
      "metadata": {
        "id": "gh9vRw1MW1up"
      },
      "source": [
        "Add the *Melusi* Area to the first map"
      ],
      "id": "gh9vRw1MW1up"
    },
    {
      "cell_type": "code",
      "metadata": {
        "id": "32d88564"
      },
      "source": [
        "for _, r in melusi_area.iterrows():\n",
        "    sim_geo = gpd.GeoSeries(r['geometry']).simplify(tolerance=0.001)\n",
        "    geo_j = sim_geo.to_json()\n",
        "    geo_j = folium.GeoJson(data=geo_j,\n",
        "                           style_function=lambda x: {'fillColor': 'blue'})\n",
        "    geo_j.add_to(map1)"
      ],
      "id": "32d88564",
      "execution_count": 9,
      "outputs": []
    },
    {
      "cell_type": "markdown",
      "metadata": {
        "id": "c8XmwitHVygR"
      },
      "source": [
        "Display the first map by asking for the object representation"
      ],
      "id": "c8XmwitHVygR"
    },
    {
      "cell_type": "code",
      "metadata": {
        "id": "76074fef"
      },
      "source": [
        "map1"
      ],
      "id": "76074fef",
      "execution_count": null,
      "outputs": []
    },
    {
      "cell_type": "markdown",
      "metadata": {
        "id": "GJaUqPzkV3hA"
      },
      "source": [
        "Save the first interactive map"
      ],
      "id": "GJaUqPzkV3hA"
    },
    {
      "cell_type": "code",
      "metadata": {
        "id": "a119660d"
      },
      "source": [
        "map1.save('melusi_area.html')"
      ],
      "id": "a119660d",
      "execution_count": 11,
      "outputs": []
    },
    {
      "cell_type": "markdown",
      "metadata": {
        "id": "85QsHYIdWsBZ"
      },
      "source": [
        "Create second interactive map of the *Melusi* Area"
      ],
      "id": "85QsHYIdWsBZ"
    },
    {
      "cell_type": "code",
      "metadata": {
        "id": "5qpCR7aIWwgp"
      },
      "source": [
        "map2 = folium.Map(location=[-25.72,28.11], tiles='Carto DB Positron', zoom_start=15)"
      ],
      "id": "5qpCR7aIWwgp",
      "execution_count": 19,
      "outputs": []
    },
    {
      "cell_type": "markdown",
      "metadata": {
        "id": "An1gGxddat4e"
      },
      "source": [
        "Add the *Melusi* Area to the second map"
      ],
      "id": "An1gGxddat4e"
    },
    {
      "cell_type": "code",
      "metadata": {
        "id": "atz59QRXamnu"
      },
      "source": [
        "for _, r in melusi_area.iterrows():\n",
        "    sim_geo = gpd.GeoSeries(r['geometry']).simplify(tolerance=0.001)\n",
        "    geo_j = sim_geo.to_json()\n",
        "    geo_j = folium.GeoJson(data=geo_j,\n",
        "                           style_function=lambda x: {'fillColor': 'blue'})\n",
        "    geo_j.add_to(map2)"
      ],
      "id": "atz59QRXamnu",
      "execution_count": 20,
      "outputs": []
    },
    {
      "cell_type": "markdown",
      "metadata": {
        "id": "kqlJCCxoayT9"
      },
      "source": [
        "Display the second map by asking for the object representation"
      ],
      "id": "kqlJCCxoayT9"
    },
    {
      "cell_type": "code",
      "metadata": {
        "id": "BdCjt4pJa0W2"
      },
      "source": [
        "map2"
      ],
      "id": "BdCjt4pJa0W2",
      "execution_count": null,
      "outputs": []
    },
    {
      "cell_type": "markdown",
      "metadata": {
        "id": "qbVL45Dva4sV"
      },
      "source": [
        "Save the second interactive map"
      ],
      "id": "qbVL45Dva4sV"
    },
    {
      "cell_type": "code",
      "metadata": {
        "id": "l3kq5qFoa-ZO"
      },
      "source": [
        "map2.save('melusi_area2.html')"
      ],
      "id": "l3kq5qFoa-ZO",
      "execution_count": 22,
      "outputs": []
    },
    {
      "cell_type": "markdown",
      "metadata": {
        "id": "BnfUTy9XbQW1"
      },
      "source": [
        "Read the other data files"
      ],
      "id": "BnfUTy9XbQW1"
    },
    {
      "cell_type": "code",
      "metadata": {
        "id": "2655123a"
      },
      "source": [
        "melusi_area_2010 = gpd.read_file('/content/drive/MyDrive/HonsProj-Data/GTI_Data_Delivery20210902/SHP/Melusi_Building_Based_Land_Use_Points_2010.shp')\n",
        "melusi_area_2020 = gpd.read_file('/content/drive/MyDrive/HonsProj-Data/GTI_Data_Delivery20210902/SHP/Melusi_Building_Based_Land_Use_Points_2020.shp')\n",
        "roads = gpd.read_file('/content/drive/MyDrive/HonsProj-Data/roads_lines_shp/hotosm_zaf_roads_lines.shp')\n",
        "population = rioxarray.open_rasterio(\"/content/drive/MyDrive/HonsProj-Data/population_zaf_2019-07-01_geotiff/population_zaf_2019-07-01.tif\")"
      ],
      "id": "2655123a",
      "execution_count": 23,
      "outputs": []
    },
    {
      "cell_type": "markdown",
      "metadata": {
        "id": "p-Mli3F8cHiF"
      },
      "source": [
        "Limit the Roads and Population data to just the *Melusi* Area"
      ],
      "id": "p-Mli3F8cHiF"
    },
    {
      "cell_type": "code",
      "metadata": {
        "id": "866pUSPocPgl"
      },
      "source": [
        "roads = roads.cx[xmin:xmax, ymin:ymax]\n",
        "population = population.rio.clip_box(minx=xmin, miny=ymin, maxx=xmax, maxy=ymax)"
      ],
      "id": "866pUSPocPgl",
      "execution_count": 24,
      "outputs": []
    },
    {
      "cell_type": "markdown",
      "metadata": {
        "id": "gtG-qopHcdkY"
      },
      "source": [
        "Plot the new data files"
      ],
      "id": "gtG-qopHcdkY"
    },
    {
      "cell_type": "code",
      "metadata": {
        "colab": {
          "base_uri": "https://localhost:8080/",
          "height": 178
        },
        "id": "4TpVR6YrciUO",
        "outputId": "ee08c68a-4c68-44ca-80f9-a7524121440c"
      },
      "source": [
        "ax = melusi_area_2010.plot(color=\"black\")\n",
        "ax.set(xlim=(xmin, xmax), ylim=(ymin, ymax))\n",
        "ax.autoscale_view(scalex=False, scaley=False)\n",
        "ax.autoscale(enable=False)"
      ],
      "id": "4TpVR6YrciUO",
      "execution_count": 27,
      "outputs": [
        {
          "output_type": "display_data",
          "data": {
            "image/png": "[encoded data removed]",
            "text/plain": [
              "<Figure size 432x288 with 1 Axes>"
            ]
          },
          "metadata": {
            "needs_background": "light"
          }
        }
      ]
    },
    {
      "cell_type": "code",
      "metadata": {
        "colab": {
          "base_uri": "https://localhost:8080/",
          "height": 178
        },
        "id": "rME8pd4XdKMY",
        "outputId": "6b377739-4d97-4409-a1a1-fa2c0fa4a51b"
      },
      "source": [
        "ax = melusi_area_2020.plot(color=\"black\")\n",
        "ax.set(xlim=(xmin, xmax), ylim=(ymin, ymax))\n",
        "ax.autoscale_view(scalex=False, scaley=False)\n",
        "ax.autoscale(enable=False)"
      ],
      "id": "rME8pd4XdKMY",
      "execution_count": 28,
      "outputs": [
        {
          "output_type": "display_data",
          "data": {
            "image/png": "[encoded data removed]",
            "text/plain": [
              "<Figure size 432x288 with 1 Axes>"
            ]
          },
          "metadata": {
            "needs_background": "light"
          }
        }
      ]
    },
    {
      "cell_type": "code",
      "metadata": {
        "colab": {
          "base_uri": "https://localhost:8080/",
          "height": 178
        },
        "id": "y0xXx4lGdVHG",
        "outputId": "fa86bd28-0d0d-42dd-fd0d-e6d3343e4162"
      },
      "source": [
        "ax = roads.plot(color=\"black\")\n",
        "ax.set(xlim=(xmin, xmax), ylim=(ymin, ymax))\n",
        "ax.autoscale_view(scalex=False, scaley=False)\n",
        "ax.autoscale(enable=False)"
      ],
      "id": "y0xXx4lGdVHG",
      "execution_count": 29,
      "outputs": [
        {
          "output_type": "display_data",
          "data": {
            "image/png": "[encoded data removed]",
            "text/plain": [
              "<Figure size 432x288 with 1 Axes>"
            ]
          },
          "metadata": {
            "needs_background": "light"
          }
        }
      ]
    },
    {
      "cell_type": "code",
      "metadata": {
        "colab": {
          "base_uri": "https://localhost:8080/",
          "height": 296
        },
        "id": "XEuogOOQdcLu",
        "outputId": "8e97cf23-b84c-43fd-ecd5-8223f22bd83c"
      },
      "source": [
        "ax = population.plot()"
      ],
      "id": "XEuogOOQdcLu",
      "execution_count": 32,
      "outputs": [
        {
          "output_type": "display_data",
          "data": {
            "image/png": "[encoded data removed]",
            "text/plain": [
              "<Figure size 432x288 with 2 Axes>"
            ]
          },
          "metadata": {
            "needs_background": "light"
          }
        }
      ]
    },
    {
      "cell_type": "markdown",
      "metadata": {
        "id": "MTs2kbhoeCCy"
      },
      "source": [
        "Get the Coordinate Reference System for all the data"
      ],
      "id": "MTs2kbhoeCCy"
    },
    {
      "cell_type": "code",
      "metadata": {
        "colab": {
          "base_uri": "https://localhost:8080/"
        },
        "id": "OMPcLcKgeLI6",
        "outputId": "f74fda8b-a2d9-466e-f132-168b9c89b666"
      },
      "source": [
        "melusi_area.crs"
      ],
      "id": "OMPcLcKgeLI6",
      "execution_count": 33,
      "outputs": [
        {
          "output_type": "execute_result",
          "data": {
            "text/plain": [
              "<Geographic 2D CRS: EPSG:4326>\n",
              "Name: WGS 84\n",
              "Axis Info [ellipsoidal]:\n",
              "- Lat[north]: Geodetic latitude (degree)\n",
              "- Lon[east]: Geodetic longitude (degree)\n",
              "Area of Use:\n",
              "- name: World.\n",
              "- bounds: (-180.0, -90.0, 180.0, 90.0)\n",
              "Datum: World Geodetic System 1984 ensemble\n",
              "- Ellipsoid: WGS 84\n",
              "- Prime Meridian: Greenwich"
            ]
          },
          "metadata": {},
          "execution_count": 33
        }
      ]
    },
    {
      "cell_type": "code",
      "metadata": {
        "colab": {
          "base_uri": "https://localhost:8080/"
        },
        "id": "S2W95it_eOL0",
        "outputId": "44ccf02e-6f01-4607-ff34-6e79f0e63d94"
      },
      "source": [
        "melusi_area_2010.crs"
      ],
      "id": "S2W95it_eOL0",
      "execution_count": 34,
      "outputs": [
        {
          "output_type": "execute_result",
          "data": {
            "text/plain": [
              "<Geographic 2D CRS: EPSG:4326>\n",
              "Name: WGS 84\n",
              "Axis Info [ellipsoidal]:\n",
              "- Lat[north]: Geodetic latitude (degree)\n",
              "- Lon[east]: Geodetic longitude (degree)\n",
              "Area of Use:\n",
              "- name: World.\n",
              "- bounds: (-180.0, -90.0, 180.0, 90.0)\n",
              "Datum: World Geodetic System 1984 ensemble\n",
              "- Ellipsoid: WGS 84\n",
              "- Prime Meridian: Greenwich"
            ]
          },
          "metadata": {},
          "execution_count": 34
        }
      ]
    },
    {
      "cell_type": "code",
      "metadata": {
        "colab": {
          "base_uri": "https://localhost:8080/"
        },
        "id": "X2EFrekKeSX3",
        "outputId": "5156fe12-e074-48ca-ecb8-e92d8167f3a7"
      },
      "source": [
        "melusi_area_2020.crs"
      ],
      "id": "X2EFrekKeSX3",
      "execution_count": 36,
      "outputs": [
        {
          "output_type": "execute_result",
          "data": {
            "text/plain": [
              "<Geographic 2D CRS: EPSG:4326>\n",
              "Name: WGS 84\n",
              "Axis Info [ellipsoidal]:\n",
              "- Lat[north]: Geodetic latitude (degree)\n",
              "- Lon[east]: Geodetic longitude (degree)\n",
              "Area of Use:\n",
              "- name: World.\n",
              "- bounds: (-180.0, -90.0, 180.0, 90.0)\n",
              "Datum: World Geodetic System 1984 ensemble\n",
              "- Ellipsoid: WGS 84\n",
              "- Prime Meridian: Greenwich"
            ]
          },
          "metadata": {},
          "execution_count": 36
        }
      ]
    },
    {
      "cell_type": "code",
      "metadata": {
        "id": "kc3eYkiyfow1"
      },
      "source": [
        ""
      ],
      "id": "kc3eYkiyfow1",
      "execution_count": null,
      "outputs": []
    },
    {
      "cell_type": "code",
      "metadata": {
        "colab": {
          "base_uri": "https://localhost:8080/"
        },
        "id": "rCEBkLaWXPH5",
        "outputId": "f07f5aed-66d4-46d7-9ff3-2883688e0763"
      },
      "source": [
        "type(population.values)"
      ],
      "id": "rCEBkLaWXPH5",
      "execution_count": 18,
      "outputs": [
        {
          "output_type": "execute_result",
          "data": {
            "text/plain": [
              "numpy.ndarray"
            ]
          },
          "metadata": {},
          "execution_count": 18
        }
      ]
    },
    {
      "cell_type": "code",
      "metadata": {
        "id": "60b8022b",
        "colab": {
          "base_uri": "https://localhost:8080/"
        },
        "outputId": "e7278ed5-994f-4ba6-fbe7-704be6a8ff73"
      },
      "source": [
        "melusi_area.crs"
      ],
      "id": "60b8022b",
      "execution_count": null,
      "outputs": [
        {
          "output_type": "execute_result",
          "data": {
            "text/plain": [
              "<Geographic 2D CRS: EPSG:4326>\n",
              "Name: WGS 84\n",
              "Axis Info [ellipsoidal]:\n",
              "- Lat[north]: Geodetic latitude (degree)\n",
              "- Lon[east]: Geodetic longitude (degree)\n",
              "Area of Use:\n",
              "- name: World.\n",
              "- bounds: (-180.0, -90.0, 180.0, 90.0)\n",
              "Datum: World Geodetic System 1984 ensemble\n",
              "- Ellipsoid: WGS 84\n",
              "- Prime Meridian: Greenwich"
            ]
          },
          "metadata": {},
          "execution_count": 10
        }
      ]
    },
    {
      "cell_type": "code",
      "metadata": {
        "colab": {
          "base_uri": "https://localhost:8080/"
        },
        "id": "UOQP0_cHfsaE",
        "outputId": "f42f817f-3b07-4d19-a516-85a721b4eeaf"
      },
      "source": [
        "print(f'CRS: {population.rio.crs}')\n",
        "print(f'Bounds: {population.rio.bounds()}')\n",
        "print(f'Width: {population.rio.width}')\n",
        "print(f'Height: {population.rio.height}')"
      ],
      "id": "UOQP0_cHfsaE",
      "execution_count": 38,
      "outputs": [
        {
          "output_type": "stream",
          "name": "stdout",
          "text": [
            "CRS: EPSG:4326\n",
            "Bounds: (28.09791666667597, -25.727638888891768, 28.132638888898217, -25.71541666666954)\n",
            "Width: 125\n",
            "Height: 44\n"
          ]
        }
      ]
    },
    {
      "cell_type": "markdown",
      "metadata": {
        "id": "bc22a5uGggbr"
      },
      "source": [
        "Save the Plotted Images without the Axes"
      ],
      "id": "bc22a5uGggbr"
    },
    {
      "cell_type": "code",
      "metadata": {
        "id": "d60301c3",
        "colab": {
          "base_uri": "https://localhost:8080/",
          "height": 161
        },
        "outputId": "e6a22f17-8260-453e-9565-235151f46f63"
      },
      "source": [
        "ax = melusi_area_2010.plot(color=\"black\")\n",
        "ax.set_axis_off()\n",
        "ax.set(xlim=(xmin, xmax), ylim=(ymin, ymax))\n",
        "ax.autoscale_view(scalex=False, scaley=False)\n",
        "ax.autoscale(enable=False)\n",
        "plt.savefig(\"melusi-area2010-noaxis.png\",dpi=1200)"
      ],
      "id": "d60301c3",
      "execution_count": 51,
      "outputs": [
        {
          "output_type": "display_data",
          "data": {
            "image/png": "[encoded data removed]",
            "text/plain": [
              "<Figure size 432x288 with 1 Axes>"
            ]
          },
          "metadata": {
            "needs_background": "light"
          }
        }
      ]
    },
    {
      "cell_type": "code",
      "metadata": {
        "id": "1eaf1b4b",
        "colab": {
          "base_uri": "https://localhost:8080/",
          "height": 161
        },
        "outputId": "11533c36-7dfc-4bd5-837e-81655f921d99"
      },
      "source": [
        "ax = melusi_area_2020.plot(color=\"black\")\n",
        "ax.set_axis_off()\n",
        "ax.set(xlim=(xmin, xmax), ylim=(ymin, ymax))\n",
        "ax.autoscale_view(scalex=False, scaley=False)\n",
        "ax.autoscale(enable=False)\n",
        "plt.savefig(\"melusi-area2020-noaxis.png\",dpi=1200)"
      ],
      "id": "1eaf1b4b",
      "execution_count": 52,
      "outputs": [
        {
          "output_type": "display_data",
          "data": {
            "image/png": "[encoded data removed]",
            "text/plain": [
              "<Figure size 432x288 with 1 Axes>"
            ]
          },
          "metadata": {
            "needs_background": "light"
          }
        }
      ]
    },
    {
      "cell_type": "code",
      "metadata": {
        "id": "729881cf",
        "colab": {
          "base_uri": "https://localhost:8080/",
          "height": 161
        },
        "outputId": "7e09bfdd-08a3-4e44-fb45-e647b0770e55"
      },
      "source": [
        "ax = roads.plot(color=\"black\")\n",
        "ax.set_axis_off()\n",
        "ax.set(xlim=(xmin, xmax), ylim=(ymin, ymax))\n",
        "ax.autoscale_view(scalex=False, scaley=False)\n",
        "ax.autoscale(enable=False)\n",
        "plt.savefig(\"roads-noaxis.png\",dpi=1200)"
      ],
      "id": "729881cf",
      "execution_count": 53,
      "outputs": [
        {
          "output_type": "display_data",
          "data": {
            "image/png": "[encoded data removed]",
            "text/plain": [
              "<Figure size 432x288 with 1 Axes>"
            ]
          },
          "metadata": {
            "needs_background": "light"
          }
        }
      ]
    },
    {
      "cell_type": "code",
      "metadata": {
        "id": "6aa4e1c0",
        "colab": {
          "base_uri": "https://localhost:8080/",
          "height": 296
        },
        "outputId": "d758cb8b-d4f4-45be-d1e8-e9aa38d36d10"
      },
      "source": [
        "ax = population.plot()\n",
        "plt.savefig(\"population-noaxis.png\",dpi=1200)"
      ],
      "id": "6aa4e1c0",
      "execution_count": 43,
      "outputs": [
        {
          "output_type": "display_data",
          "data": {
            "image/png": "[encoded data removed]",
            "text/plain": [
              "<Figure size 432x288 with 2 Axes>"
            ]
          },
          "metadata": {
            "needs_background": "light"
          }
        }
      ]
    },
    {
      "cell_type": "markdown",
      "metadata": {
        "id": "64n1tLBaiQq-"
      },
      "source": [
        "Grayscale Images that were saved and resave"
      ],
      "id": "64n1tLBaiQq-"
    },
    {
      "cell_type": "code",
      "metadata": {
        "colab": {
          "base_uri": "https://localhost:8080/"
        },
        "id": "ZB7esgc9li8T",
        "outputId": "c928f897-137f-4e5b-9a92-10cc1648ce1d"
      },
      "source": [
        "image = cv2.imread('melusi-area2010-noaxis.png')\n",
        "melusi2010_gray = cv2.cvtColor(image, cv2.COLOR_BGR2GRAY)\n",
        "cv2.imwrite('melusi-area2010_gray.png', melusi2010_gray)"
      ],
      "id": "ZB7esgc9li8T",
      "execution_count": 54,
      "outputs": [
        {
          "output_type": "execute_result",
          "data": {
            "text/plain": [
              "True"
            ]
          },
          "metadata": {},
          "execution_count": 54
        }
      ]
    },
    {
      "cell_type": "code",
      "metadata": {
        "colab": {
          "base_uri": "https://localhost:8080/"
        },
        "id": "QEIJWVjOnmM9",
        "outputId": "6fa912e9-00c9-4a08-a9a0-14287920a91d"
      },
      "source": [
        "image = cv2.imread('melusi-area2020-noaxis.png')\n",
        "melusi2020_gray = cv2.cvtColor(image, cv2.COLOR_BGR2GRAY)\n",
        "cv2.imwrite('melusi-area2020_gray.png', melusi2020_gray)"
      ],
      "id": "QEIJWVjOnmM9",
      "execution_count": 55,
      "outputs": [
        {
          "output_type": "execute_result",
          "data": {
            "text/plain": [
              "True"
            ]
          },
          "metadata": {},
          "execution_count": 55
        }
      ]
    },
    {
      "cell_type": "code",
      "metadata": {
        "id": "22352389",
        "colab": {
          "base_uri": "https://localhost:8080/"
        },
        "outputId": "6af7000f-7936-4987-c976-5c880610d658"
      },
      "source": [
        "image = cv2.imread('roads-noaxis.png')\n",
        "roads2019gray = cv2.cvtColor(image, cv2.COLOR_BGR2GRAY)\n",
        "cv2.imwrite('roads2019_gray.png', roads2019gray)"
      ],
      "id": "22352389",
      "execution_count": 56,
      "outputs": [
        {
          "output_type": "execute_result",
          "data": {
            "text/plain": [
              "True"
            ]
          },
          "metadata": {},
          "execution_count": 56
        }
      ]
    },
    {
      "cell_type": "markdown",
      "metadata": {
        "id": "QbSJ1AySo3qZ"
      },
      "source": [
        "Resize and scale new grayscale images"
      ],
      "id": "QbSJ1AySo3qZ"
    },
    {
      "cell_type": "code",
      "metadata": {
        "id": "3RK3XiiQpANo"
      },
      "source": [
        "scale_percent = 33.333333333 # percent of original size"
      ],
      "id": "3RK3XiiQpANo",
      "execution_count": 57,
      "outputs": []
    },
    {
      "cell_type": "code",
      "metadata": {
        "id": "aa6ffc01",
        "colab": {
          "base_uri": "https://localhost:8080/"
        },
        "outputId": "a77e14c1-64bd-4208-e98e-8858afbe55fd"
      },
      "source": [
        "roads_gray = cv2.imread('roads2019_gray.png')\n",
        "roads_gray = cv2.cvtColor(roads_gray, cv2.COLOR_BGR2GRAY)\n",
        "width = int(roads_gray.shape[1] * scale_percent / 100)\n",
        "height = int(roads_gray.shape[0] * scale_percent / 100)\n",
        "dim = (width, height)\n",
        "roads_gray_resized = cv2.resize(roads_gray, dim, interpolation = cv2.INTER_AREA)\n",
        "cv2.imwrite('roads_gray_resized.png', roads_gray_resized)"
      ],
      "id": "aa6ffc01",
      "execution_count": 58,
      "outputs": [
        {
          "output_type": "execute_result",
          "data": {
            "text/plain": [
              "True"
            ]
          },
          "metadata": {},
          "execution_count": 58
        }
      ]
    },
    {
      "cell_type": "code",
      "metadata": {
        "colab": {
          "base_uri": "https://localhost:8080/"
        },
        "id": "lmB1Ub5ipzD8",
        "outputId": "e5815967-5cbe-4520-ceb6-b4229913f1d0"
      },
      "source": [
        "melusi2010_gray = cv2.imread('melusi-area2010_gray.png')\n",
        "melusi2010_gray = cv2.cvtColor(melusi2010_gray, cv2.COLOR_BGR2GRAY)\n",
        "width = int(melusi2010_gray.shape[1] * scale_percent / 100)\n",
        "height = int(melusi2010_gray.shape[0] * scale_percent / 100)\n",
        "dim = (width, height)\n",
        "melusi2010_gray_resized = cv2.resize(melusi2010_gray, dim, interpolation = cv2.INTER_AREA)\n",
        "cv2.imwrite('melusi2010_gray_resized.png', melusi2010_gray_resized)"
      ],
      "id": "lmB1Ub5ipzD8",
      "execution_count": 59,
      "outputs": [
        {
          "output_type": "execute_result",
          "data": {
            "text/plain": [
              "True"
            ]
          },
          "metadata": {},
          "execution_count": 59
        }
      ]
    },
    {
      "cell_type": "code",
      "metadata": {
        "colab": {
          "base_uri": "https://localhost:8080/"
        },
        "id": "2Qy3blEcqj1L",
        "outputId": "241770bb-0bf4-4709-f2fd-6f70ca6372fa"
      },
      "source": [
        "melusi2020_gray = cv2.imread('melusi-area2010_gray.png')\n",
        "melusi2020_gray = cv2.cvtColor(melusi2020_gray, cv2.COLOR_BGR2GRAY)\n",
        "width = int(melusi2020_gray.shape[1] * scale_percent / 100)\n",
        "height = int(melusi2020_gray.shape[0] * scale_percent / 100)\n",
        "dim = (width, height)\n",
        "melusi2020_gray_resized = cv2.resize(melusi2020_gray, dim, interpolation = cv2.INTER_AREA)\n",
        "cv2.imwrite('melusi2020_gray_resized.png', melusi2020_gray_resized)"
      ],
      "id": "2Qy3blEcqj1L",
      "execution_count": 60,
      "outputs": [
        {
          "output_type": "execute_result",
          "data": {
            "text/plain": [
              "True"
            ]
          },
          "metadata": {},
          "execution_count": 60
        }
      ]
    },
    {
      "cell_type": "markdown",
      "metadata": {
        "id": "HrmR99oQrqqZ"
      },
      "source": [
        "Replace colors in roads with just black and white"
      ],
      "id": "HrmR99oQrqqZ"
    },
    {
      "cell_type": "code",
      "metadata": {
        "id": "d15c444c"
      },
      "source": [
        "def thresholdReplaceRoads(x):\n",
        "  if x > 230:\n",
        "    return 255\n",
        "  elif x < 230 and x > 0:\n",
        "    return 0\n",
        "  else:\n",
        "    return 0"
      ],
      "id": "d15c444c",
      "execution_count": 61,
      "outputs": []
    },
    {
      "cell_type": "code",
      "metadata": {
        "id": "3f5c2533"
      },
      "source": [
        "vectorizeRoadsFunction = np.vectorize(thresholdReplaceRoads)\n",
        "roads_gray_resized = vectorizeRoadsFunction(roads_gray_resized)"
      ],
      "id": "3f5c2533",
      "execution_count": 62,
      "outputs": []
    },
    {
      "cell_type": "code",
      "metadata": {
        "id": "423b3e5b",
        "colab": {
          "base_uri": "https://localhost:8080/"
        },
        "outputId": "3f5a29e6-0455-4026-b99f-31db392d9aba"
      },
      "source": [
        "np.unique(roads_gray_resized)"
      ],
      "id": "423b3e5b",
      "execution_count": 64,
      "outputs": [
        {
          "output_type": "execute_result",
          "data": {
            "text/plain": [
              "array([  0, 255])"
            ]
          },
          "metadata": {},
          "execution_count": 64
        }
      ]
    },
    {
      "cell_type": "markdown",
      "metadata": {
        "id": "A5WBCVymsWU4"
      },
      "source": [
        "Replace colours in Grayscale Population Image with just 5 colours"
      ],
      "id": "A5WBCVymsWU4"
    },
    {
      "cell_type": "code",
      "metadata": {
        "id": "298caffe"
      },
      "source": [
        "def thresholdReplacePopulation(x):\n",
        "  if x < 220 and x > 195: # Yellows in original picture\n",
        "    return 215\n",
        "  elif x > 25 and x < 35: # Purples in original picture\n",
        "    return 30\n",
        "  elif x > 80 and x < 115: # Blues in original picture\n",
        "    return 99\n",
        "  elif x > 130 and x < 150: # Greens in original picture\n",
        "    return 146\n",
        "  else: # To replace background colors\n",
        "    return 255"
      ],
      "id": "298caffe",
      "execution_count": 66,
      "outputs": []
    },
    {
      "cell_type": "code",
      "metadata": {
        "id": "ef1bc175",
        "colab": {
          "base_uri": "https://localhost:8080/"
        },
        "outputId": "b9fcab6f-bacb-4fff-9618-0256302281e0"
      },
      "source": [
        "population_gray_resized = cv2.imread('/content/drive/MyDrive/HonsArtifact/Pictures/2019population.png')\n",
        "population_gray_resized = cv2.cvtColor(population_gray_resized, cv2.COLOR_BGR2GRAY)\n",
        "vectorizePopulationFunction = np.vectorize(thresholdReplacePopulation)\n",
        "population_gray_resized = vectorizePopulationFunction(population_gray_resized)\n",
        "cv2.imwrite('population_new.png',population_gray_resized)"
      ],
      "id": "ef1bc175",
      "execution_count": 68,
      "outputs": [
        {
          "output_type": "execute_result",
          "data": {
            "text/plain": [
              "True"
            ]
          },
          "metadata": {},
          "execution_count": 68
        }
      ]
    },
    {
      "cell_type": "markdown",
      "metadata": {
        "id": "v3TlwfMVwn1f"
      },
      "source": [
        "Methods to be utilised for Cellular Automata Modelling"
      ],
      "id": "v3TlwfMVwn1f"
    },
    {
      "cell_type": "code",
      "metadata": {
        "id": "8733faec"
      },
      "source": [
        "# Replacing the grayscale colours with Population Density\n",
        "def replaceWithPopulationDensity(x):\n",
        "  if x == 30: # Purples in original picture\n",
        "    return 0.5483527804562259\n",
        "  elif x == 99: # Blues in original picture\n",
        "    return 2.5802248275941975\n",
        "  elif x == 146: # Greens in original picture\n",
        "    return 4.0719211311237515\n",
        "  elif x == 215: # Yellows in original picture\n",
        "    return 5.236094447939968\n",
        "  else: #To replace background colors\n",
        "    return 0.1"
      ],
      "id": "8733faec",
      "execution_count": 70,
      "outputs": []
    },
    {
      "cell_type": "code",
      "metadata": {
        "id": "uOxnGTDKyR6J"
      },
      "source": [
        "vectorizePopulationFunction = np.vectorize(replaceWithPopulationDensity)"
      ],
      "id": "uOxnGTDKyR6J",
      "execution_count": 71,
      "outputs": []
    },
    {
      "cell_type": "code",
      "metadata": {
        "id": "91814962"
      },
      "source": [
        "# If Road is present in pixel replace with 1\n",
        "def replaceRoadsForCalc(x):\n",
        "  if x == 255:\n",
        "    return 0\n",
        "  else:\n",
        "    return 1"
      ],
      "id": "91814962",
      "execution_count": 72,
      "outputs": []
    },
    {
      "cell_type": "code",
      "metadata": {
        "id": "d18c4e75"
      },
      "source": [
        "vectorizeRoadsFunction = np.vectorize(replaceRoadsForCalc)"
      ],
      "id": "d18c4e75",
      "execution_count": 73,
      "outputs": []
    },
    {
      "cell_type": "code",
      "metadata": {
        "id": "5c794547"
      },
      "source": [
        "# Replace Black and White pixels with 1s and 0s for Calculations\n",
        "def replaceBWForCalculations(x):\n",
        "  if x == 255:\n",
        "    return 0\n",
        "  else:\n",
        "    return 1"
      ],
      "id": "5c794547",
      "execution_count": 75,
      "outputs": []
    },
    {
      "cell_type": "code",
      "metadata": {
        "id": "36280e4a"
      },
      "source": [
        "vectorizeBWFunction = np.vectorize(replaceBWForCalculations)"
      ],
      "id": "36280e4a",
      "execution_count": 76,
      "outputs": []
    },
    {
      "cell_type": "markdown",
      "metadata": {
        "id": "dp29l3L8yyd3"
      },
      "source": [
        "Read and Grayscale Final Images for CA Modelling"
      ],
      "id": "dp29l3L8yyd3"
    },
    {
      "cell_type": "code",
      "metadata": {
        "id": "d2aa9a2c"
      },
      "source": [
        "melusi2010 = cv2.imread('/content/drive/MyDrive/HonsArtifact/Pictures/melusi2010gray01s_new.png')\n",
        "melusi2020 = cv2.imread('/content/drive/MyDrive/HonsArtifact/Pictures/melusi2020gray01s_new.png')\n",
        "population = cv2.imread('/content/drive/MyDrive/HonsArtifact/Pictures/population2019gray01s_new.png')\n",
        "roads = cv2.imread('/content/drive/MyDrive/HonsArtifact/Pictures/roads_gray_01s_new.png')"
      ],
      "id": "d2aa9a2c",
      "execution_count": 77,
      "outputs": []
    },
    {
      "cell_type": "code",
      "metadata": {
        "id": "81659f6f"
      },
      "source": [
        "melusi2010 = cv2.cvtColor(melusi2010, cv2.COLOR_BGR2GRAY)\n",
        "melusi2020 = cv2.cvtColor(melusi2020, cv2.COLOR_BGR2GRAY)\n",
        "population = cv2.cvtColor(population, cv2.COLOR_BGR2GRAY)\n",
        "roads = cv2.cvtColor(roads, cv2.COLOR_BGR2GRAY)"
      ],
      "id": "81659f6f",
      "execution_count": 78,
      "outputs": []
    },
    {
      "cell_type": "markdown",
      "metadata": {
        "id": "5lYzKelIzSyW"
      },
      "source": [
        "Vectorize and replace Roads and Population data for Calculations"
      ],
      "id": "5lYzKelIzSyW"
    },
    {
      "cell_type": "code",
      "metadata": {
        "id": "a3dce617"
      },
      "source": [
        "roads = vectorizeRoadsFunction(roads)\n",
        "population = vectorizePopulationFunction(population)"
      ],
      "id": "a3dce617",
      "execution_count": 79,
      "outputs": []
    },
    {
      "cell_type": "markdown",
      "metadata": {
        "id": "lY5DWVAQzvce"
      },
      "source": [
        "Create copies of original data (so original remains unchanged)"
      ],
      "id": "lY5DWVAQzvce"
    },
    {
      "cell_type": "code",
      "metadata": {
        "id": "8e6d3f77"
      },
      "source": [
        "melusi2010_copy = melusi2010.copy()\n",
        "melusi2020_copy = melusi2020.copy()\n",
        "population_copy = population.copy()\n",
        "roads_copy = roads.copy()"
      ],
      "id": "8e6d3f77",
      "execution_count": 80,
      "outputs": []
    },
    {
      "cell_type": "markdown",
      "metadata": {
        "id": "5FRYIfg8z3uO"
      },
      "source": [
        "Calculate Cumulative Sum Averages for Population and Roads"
      ],
      "id": "5FRYIfg8z3uO"
    },
    {
      "cell_type": "code",
      "metadata": {
        "id": "880851fa"
      },
      "source": [
        "# Every 10 by 10 pixel block is calculated\n",
        "row = 0\n",
        "column = 0\n",
        "step = 10 \n",
        "doubleStep = 20\n",
        "maxHeight = 830\n",
        "maxWidth = 2160\n",
        "\n",
        "firstRow = 0\n",
        "secondRow = 10\n",
        "secondLastRow = 810\n",
        "lastRow = 820\n",
        "\n",
        "\n",
        "firstColumn = 0\n",
        "secondColumn = 10\n",
        "secondLastColumn = 2140\n",
        "lastColumn = 2150\n",
        "\n",
        "cumsumPopulationList = []\n",
        "cumsumRoadList = []\n",
        "\n",
        "for row in range(0,len(melusi2010_copy),10):\n",
        "    for column in range(0,len(melusi2010_copy[row]),10):\n",
        "\n",
        "      if(row < maxHeight and column < maxWidth):\n",
        "        populationBlock = population_copy[row:row+step,column:column+step]\n",
        "        roadsBlock = roads_copy[row:row+step,column:column+step]\n",
        "        roadsCumulativeCalc = np.cumsum(roadsBlock)[-1]/100\n",
        "        populationCumulativeCalc = np.cumsum(populationBlock)[-1]/100\n",
        "        cumsumPopulationList.append(populationCumulativeCalc)\n",
        "        cumsumRoadList.append(roadsCumulativeCalc)"
      ],
      "id": "880851fa",
      "execution_count": 81,
      "outputs": []
    },
    {
      "cell_type": "markdown",
      "metadata": {
        "id": "YJiHDQEO0d2W"
      },
      "source": [
        "Create Graph for Population Cumulative Sum Averages"
      ],
      "id": "YJiHDQEO0d2W"
    },
    {
      "cell_type": "code",
      "metadata": {
        "id": "f9798c6e"
      },
      "source": [
        "npArrayPopulation = np.array(cumsumPopulationList)\n",
        "binsPopulation = np.unique(npArrayPopulation)\n",
        "graphPopulation = np.histogram(npArrayPopulation, bins=binsPopulation)\n",
        "xPopulation = list(graphPopulation[1][:-1])\n",
        "yPopulation = list(graphPopulation[0])"
      ],
      "id": "f9798c6e",
      "execution_count": 82,
      "outputs": []
    },
    {
      "cell_type": "code",
      "metadata": {
        "id": "44b85a0d",
        "colab": {
          "base_uri": "https://localhost:8080/",
          "height": 308
        },
        "outputId": "0a809452-6468-48b9-a21c-292fb8887e87"
      },
      "source": [
        "populationFigure = plt.figure()\n",
        "plt.plot(xPopulation,yPopulation)\n",
        "populationFigure.suptitle(\"Cumulative sum of Population Density for 10x10 pixels\")\n",
        "plt.xlabel('Cumulative Sum')\n",
        "plt.ylabel('Frequency')\n",
        "populationFigure.savefig('populationFigure.jpg')"
      ],
      "id": "44b85a0d",
      "execution_count": 84,
      "outputs": [
        {
          "output_type": "display_data",
          "data": {
            "image/png": "[encoded data removed]",
            "text/plain": [
              "<Figure size 432x288 with 1 Axes>"
            ]
          },
          "metadata": {
            "needs_background": "light"
          }
        }
      ]
    },
    {
      "cell_type": "markdown",
      "metadata": {
        "id": "E_diltjx0sIW"
      },
      "source": [
        "Create Graph for Cumulative Sums Averages for Roads"
      ],
      "id": "E_diltjx0sIW"
    },
    {
      "cell_type": "code",
      "metadata": {
        "id": "0a15ff7c"
      },
      "source": [
        "npArrayRoads = np.array(cumsumRoadList)\n",
        "binsRoads = np.unique(npArrayRoads)\n",
        "graphRoads = np.histogram(npArrayRoads, bins=binsRoads)\n",
        "xRoads = list(graphRoads[1][:-1])\n",
        "yRoads = list(graphRoads[0])"
      ],
      "id": "0a15ff7c",
      "execution_count": 85,
      "outputs": []
    },
    {
      "cell_type": "code",
      "metadata": {
        "id": "ef0b6cbc",
        "colab": {
          "base_uri": "https://localhost:8080/",
          "height": 308
        },
        "outputId": "094806a4-1a40-49f1-9cc5-2acb809bf00f"
      },
      "source": [
        "roadsFigure = plt.figure()\n",
        "plt.plot(xRoads,yRoads)\n",
        "roadsFigure.suptitle(\"Cumulative sum of Road pressence for 10x10 pixels\")\n",
        "plt.xlabel('Cumulative Sum')\n",
        "plt.ylabel('Frequency')\n",
        "roadsFigure.savefig('roadsFigure.jpg')"
      ],
      "id": "ef0b6cbc",
      "execution_count": 86,
      "outputs": [
        {
          "output_type": "display_data",
          "data": {
            "image/png": "[encoded data removed]",
            "text/plain": [
              "<Figure size 432x288 with 1 Axes>"
            ]
          },
          "metadata": {
            "needs_background": "light"
          }
        }
      ]
    },
    {
      "cell_type": "markdown",
      "metadata": {
        "id": "q9M2-E8n1meN"
      },
      "source": [
        "Cellular Automata Model"
      ],
      "id": "q9M2-E8n1meN"
    },
    {
      "cell_type": "code",
      "metadata": {
        "id": "7c831693"
      },
      "source": [
        "# Create Variables for the model\n",
        "\n",
        "row = 0\n",
        "column = 0\n",
        "step = 10\n",
        "doubleStep = 20\n",
        "maxHeight = 830\n",
        "maxWidth = 2160\n",
        "\n",
        "firstRow = 0\n",
        "secondRow = 10\n",
        "secondLastRow = 810\n",
        "lastRow = 820\n",
        "\n",
        "\n",
        "firstColumn = 0\n",
        "secondColumn = 10\n",
        "secondLastColumn = 2140\n",
        "lastColumn = 2150\n",
        "\n",
        "# Start Model with 0 for each rule tested\n",
        "roadsConditional = 0\n",
        "populationConditional = 0\n",
        "topBottomConditional = 0\n",
        "diagonalConditional = 0\n",
        "\n",
        "# Create a Temporary Copy of the Initial State \n",
        "tempMelusi = melusi2010.copy()\n",
        "\n",
        "# Create Flat array for Accuracy Testing\n",
        "accuracyBenchmark = melusi2020_copy.flatten()\n",
        "accuracyList = []\n",
        "\n",
        "# Run Model for 50 Generations\n",
        "for generations in range(1,51):\n",
        "  # Go through entire 10 by 10 pixels in the Array\n",
        "  for row in range(0,len(melusi2010_copy),step):\n",
        "    for column in range(0,len(melusi2010_copy[row]),step):\n",
        "      #Blocks for cellular automata\n",
        "      TopMiddle = None\n",
        "      BottomMiddle = None\n",
        "      MiddleRight = None\n",
        "      MiddleLeft = None\n",
        "      TopLeft = None\n",
        "      TopRight = None\n",
        "      BottomLeft = None\n",
        "      BottomRight = None\n",
        "\n",
        "      # Cumulative Sums for Blocks created above\n",
        "      sumTopMiddle = 0\n",
        "      sumBottomMiddle = 0\n",
        "      sumMiddleRight = 0\n",
        "      sumMiddleLeft = 0\n",
        "      sumTopLeft = 0\n",
        "      sumTopRight = 0\n",
        "      sumBottomLeft = 0\n",
        "      sumBottomRight = 0\n",
        "      # Averages for Cumulative Sums Blocks created above\n",
        "      averageOfSumsTopsBottoms = 0\n",
        "      averageOfSumsDiagonals = 0\n",
        "\n",
        "      if(row < maxHeight and column < maxWidth):\n",
        "        populationBlock = population_copy[row:row+step,column:column+step]\n",
        "        roadsBlock = roads_copy[row:row+step,column:column+step]\n",
        "        roadsCumulativeCalc = np.cumsum(roadsBlock)[-1]/100\n",
        "        populationCumulativeCalc = np.cumsum(populationBlock)[-1]/100\n",
        "        \n",
        "        # Check if Top Middle Block exists\n",
        "        if (row >= secondRow and row <= lastRow and column >= firstColumn and column <= lastColumn):\n",
        "          TopMiddle = melusi2010_copy[row-step:row, column:column+step]\n",
        "          TopMiddle = vectorizeBWFunction(TopMiddle)\n",
        "          sumTopMiddle = np.cumsum(TopMiddle)[-1]/100\n",
        "        \n",
        "        # Check if Bottom Middle Block exists\n",
        "        if (row >= firstRow and row <= secondLastRow and column >= firstColumn and column <= lastColumn):\n",
        "          BottomMiddle = melusi2010_copy[row:row+step, column:column+step]\n",
        "          BottomMiddle = vectorizeBWFunction(BottomMiddle)\n",
        "          sumBottomMiddle = np.cumsum(BottomMiddle)[-1]/100\n",
        "\n",
        "        # Check if Middle Right Block exists\n",
        "        if (row >= firstRow and row <= lastRow and column >= firstColumn and column <= secondLastColumn):\n",
        "          MiddleRight = melusi2010_copy[row:row+step, column+step:column+doubleStep]\n",
        "          MiddleRight = vectorizeBWFunction(MiddleRight)\n",
        "          sumMiddleRight = np.cumsum(MiddleRight)[-1]/100\n",
        "\n",
        "        # Check if Middle Left Block exists\n",
        "        if (row >= firstRow and row <= lastRow and column >= secondColumn and column <= lastColumn):\n",
        "          MiddleLeft = melusi2010_copy[row:row+step, column-step:column]\n",
        "          MiddleLeft = vectorizeBWFunction(MiddleLeft)\n",
        "          sumMiddleLeft = np.cumsum(MiddleLeft)[-1]/100\n",
        "\n",
        "        # Check if Top Left Block exists\n",
        "        if (row >= secondRow and row <= lastRow and column >= secondColumn and column <= lastColumn):\n",
        "          TopLeft = melusi2010_copy[row-step:row, column-step:column]\n",
        "          TopLeft = vectorizeBWFunction(TopLeft)\n",
        "          sumTopLeft = np.cumsum(TopLeft)[-1]/100\n",
        "\n",
        "        # Check if Top Right Block exists\n",
        "        if (row >= secondRow and row <= lastRow and column >= firstColumn and column <= secondLastColumn):\n",
        "          TopRight = melusi2010_copy[row-step:row, column+step:column+doubleStep]\n",
        "          TopRight = vectorizeBWFunction(TopRight)\n",
        "          sumTopRight = np.cumsum(TopRight)[-1]/100\n",
        "\n",
        "        # Check if Bottom Left Block exists\n",
        "        if (row >= firstRow and row < secondLastRow and column >= secondColumn and column <= lastColumn):\n",
        "          BottomLeft = melusi2010_copy[row+step:row+doubleStep, column-step:column]\n",
        "          BottomLeft = vectorizeBWFunction(BottomLeft)\n",
        "          sumBottomLeft = np.cumsum(BottomLeft)[-1]/100\n",
        "\n",
        "        # Check if Bottom Right Block exists\n",
        "        if (row >= firstRow and row <= secondLastRow and column >= firstColumn and column <= secondLastColumn):\n",
        "          BottomRight = melusi2010_copy[row+step:row+doubleStep, column+step:column+doubleStep]\n",
        "          BottomRight = vectorizeBWFunction(BottomRight)\n",
        "          sumBottomRight = np.cumsum(BottomRight)[-1]/100\n",
        "\n",
        "        # Add Top and Bottom Blocks to a list\n",
        "        countTopsBottoms = [TopMiddle, BottomMiddle, MiddleRight, MiddleLeft] \n",
        "        # Add Diagonal Blocks to a list\n",
        "        countDiags = [TopLeft, TopRight, BottomLeft, BottomRight]\n",
        "\n",
        "        # Count how many Neighbour Blocks there are for Current Block\n",
        "        noneCountsTops = len([x for x in countTopsBottoms if x is not None])\n",
        "        noneCountsDiag = len([x for x in countDiags if x is not None])\n",
        "\n",
        "        # Get Averages of Top and Bottom Blocks Cumulative Sums\n",
        "        averageOfSumsTopsBottoms = (sumTopMiddle + sumBottomMiddle + sumMiddleRight + sumMiddleLeft) / noneCountsTops\n",
        "        # Get Averages of Diagonals Blocks Cumulative Sums\n",
        "        averageOfSumsDiagonals = (sumTopLeft + sumTopRight + sumBottomLeft + sumBottomRight) / noneCountsDiag\n",
        "        \n",
        "        # First Generation\n",
        "        if (generations == 1):\n",
        "            roadsConditional = 0.01\n",
        "            populationConditional = 0.08\n",
        "            diagonalsCondidtional = 0.1\n",
        "            topBottomConditional = 0.1\n",
        "            # First Generation Rules are Checked\n",
        "            if ((roadsCumulativeCalc >= roadsConditional or populationCumulativeCalc >= populationConditional) and (averageOfSumsDiagonals > diagonalsCondidtional or averageOfSumsTopsBottoms > topBottomConditional)):\n",
        "              # Fill Current Block as Alive\n",
        "              for m in range(row,row+step):\n",
        "                for n in range(column,column+step):\n",
        "                  tempMelusi[m,n] = 0\n",
        "        # Second Generation\n",
        "        elif (generations == 2):\n",
        "            roadsConditional = 0.01\n",
        "            populationConditional = 0.08\n",
        "            diagonalsCondidtional = 0.1\n",
        "            topBottomConditional = 0.1\n",
        "            # Second Generation Rules are Checked\n",
        "            if ((roadsCumulativeCalc >= roadsConditional and populationCumulativeCalc >= populationConditional) and (averageOfSumsDiagonals > diagonalsCondidtional or averageOfSumsTopsBottoms > topBottomConditional)):\n",
        "              # Fill Current Block as Alive\n",
        "              for m in range(row,row+step):\n",
        "                for n in range(column,column+step):\n",
        "                  tempMelusi[m,n] = 0\n",
        "        # Generations less than 40\n",
        "        elif (generations < 40):\n",
        "            roadsConditional = 0.1\n",
        "            populationConditional = 0.1\n",
        "            diagonalsCondidtional = 0.1\n",
        "            topBottomConditional = 0.1\n",
        "            # Generations less than 40 Rules are Checked\n",
        "            if ((roadsCumulativeCalc >= roadsConditional and populationCumulativeCalc >= populationConditional) and (averageOfSumsDiagonals > diagonalsCondidtional or averageOfSumsTopsBottoms > topBottomConditional)):\n",
        "              # Fill Current Block as Alive\n",
        "              for m in range(row,row+step):\n",
        "                for n in range(column,column+step):\n",
        "                  tempMelusi[m,n] = 0\n",
        "        # Generations more than 40 and less than 51\n",
        "        else:\n",
        "            roadsConditional = 0.09\n",
        "            populationConditional = 0.05\n",
        "            diagonalsCondidtional = 0.15\n",
        "            topBottomConditional = 0.1\n",
        "            # Generations(40 < x < 50) Rules are Checked\n",
        "            if ((roadsCumulativeCalc >= roadsConditional and populationCumulativeCalc >= populationConditional) and (averageOfSumsDiagonals > diagonalsCondidtional or averageOfSumsTopsBottoms > topBottomConditional)):\n",
        "              # Fill Current Block as Alive\n",
        "              for m in range(row,row+step):\n",
        "                for n in range(column,column+step):\n",
        "                  tempMelusi[m,n] = 0\n",
        "  # Copy temporary array to final array\n",
        "  melusi2010_copy = tempMelusi\n",
        "  # Calculate Accuracy\n",
        "  accuracyTemp = melusi2010_copy.copy().flatten()\n",
        "  score = cohen_kappa_score(accuracyBenchmark,accuracyTemp)\n",
        "  accuracyList.append(score)\n",
        "  # Write Current Simulated Generation to an image\n",
        "  filename = f\"pics/generation-{str(generations)}-melusi.png\"\n",
        "  cv2.imwrite(filename,melusi2010_copy)"
      ],
      "id": "7c831693",
      "execution_count": 87,
      "outputs": []
    },
    {
      "cell_type": "markdown",
      "metadata": {
        "id": "uqGtfOGo1Hte"
      },
      "source": [
        "Create Graph for Accuracy results"
      ],
      "id": "uqGtfOGo1Hte"
    },
    {
      "cell_type": "code",
      "metadata": {
        "id": "c38ca5f3",
        "colab": {
          "base_uri": "https://localhost:8080/",
          "height": 308
        },
        "outputId": "ec324a2e-a19c-48fc-9337-990dbafc9382"
      },
      "source": [
        "generationsList = list(map(lambda x: x, range(1,51)))\n",
        "scoresFigure = plt.figure()\n",
        "plt.plot(generationsList,accuracyList)\n",
        "scoresFigure.suptitle(\"Cohen's kappa coefficient after each Generation\")\n",
        "plt.xlabel('Generation')\n",
        "plt.ylabel('Kappa Score')\n",
        "scoresFigure.savefig('scoresFigure.jpg')"
      ],
      "id": "c38ca5f3",
      "execution_count": 88,
      "outputs": [
        {
          "output_type": "display_data",
          "data": {
            "image/png": "[encoded data removed]",
            "text/plain": [
              "<Figure size 432x288 with 1 Axes>"
            ]
          },
          "metadata": {
            "needs_background": "light"
          }
        }
      ]
    },
    {
      "cell_type": "markdown",
      "metadata": {
        "id": "CKk4W3Yb-FSe"
      },
      "source": [
        "Get Maximum Accuracy achieved"
      ],
      "id": "CKk4W3Yb-FSe"
    },
    {
      "cell_type": "code",
      "metadata": {
        "id": "586b857f",
        "colab": {
          "base_uri": "https://localhost:8080/"
        },
        "outputId": "102ebf8e-b579-4370-cdcd-a486b264906b"
      },
      "source": [
        "max(accuracyList)"
      ],
      "id": "586b857f",
      "execution_count": 89,
      "outputs": [
        {
          "output_type": "execute_result",
          "data": {
            "text/plain": [
              "0.6177552964145456"
            ]
          },
          "metadata": {},
          "execution_count": 89
        }
      ]
    },
    {
      "cell_type": "markdown",
      "metadata": {
        "id": "K0Yu_xVC-cW9"
      },
      "source": [
        "Get Accuracy for each generation"
      ],
      "id": "K0Yu_xVC-cW9"
    },
    {
      "cell_type": "code",
      "metadata": {
        "id": "1ts_fDKEJywZ",
        "colab": {
          "base_uri": "https://localhost:8080/"
        },
        "outputId": "1f8587e7-3a0d-403d-989e-678ca0a68251"
      },
      "source": [
        "for i in range(1,51):\n",
        "  print(f'Generation: {i}\\t{accuracyList[i-1]}')"
      ],
      "id": "1ts_fDKEJywZ",
      "execution_count": 91,
      "outputs": [
        {
          "output_type": "stream",
          "name": "stdout",
          "text": [
            "Generation: 1\t0.11625181498059378\n",
            "Generation: 2\t0.19824922121107136\n",
            "Generation: 3\t0.2030628354462608\n",
            "Generation: 4\t0.20793481429046645\n",
            "Generation: 5\t0.21093437785824343\n",
            "Generation: 6\t0.21283046681369622\n",
            "Generation: 7\t0.21812986043325577\n",
            "Generation: 8\t0.22511088417746883\n",
            "Generation: 9\t0.23225494066337948\n",
            "Generation: 10\t0.23712807908806854\n",
            "Generation: 11\t0.24030784142599682\n",
            "Generation: 12\t0.24236259441785502\n",
            "Generation: 13\t0.24795555301338124\n",
            "Generation: 14\t0.25260419032659376\n",
            "Generation: 15\t0.2572418136274782\n",
            "Generation: 16\t0.2822792436920437\n",
            "Generation: 17\t0.29504157655474317\n",
            "Generation: 18\t0.30102906854032363\n",
            "Generation: 19\t0.304648848523116\n",
            "Generation: 20\t0.3143884842889031\n",
            "Generation: 21\t0.3215714223769961\n",
            "Generation: 22\t0.33780443805206917\n",
            "Generation: 23\t0.3461394892632711\n",
            "Generation: 24\t0.35302831352863406\n",
            "Generation: 25\t0.3586621586000974\n",
            "Generation: 26\t0.3618238888941685\n",
            "Generation: 27\t0.36795669505675166\n",
            "Generation: 28\t0.3723251828092663\n",
            "Generation: 29\t0.37529002091648256\n",
            "Generation: 30\t0.37650949057057026\n",
            "Generation: 31\t0.37720597829276714\n",
            "Generation: 32\t0.37720597829276714\n",
            "Generation: 33\t0.37720597829276714\n",
            "Generation: 34\t0.37720597829276714\n",
            "Generation: 35\t0.37720597829276714\n",
            "Generation: 36\t0.37720597829276714\n",
            "Generation: 37\t0.37720597829276714\n",
            "Generation: 38\t0.37720597829276714\n",
            "Generation: 39\t0.37720597829276714\n",
            "Generation: 40\t0.5819724568141758\n",
            "Generation: 41\t0.5961732519113635\n",
            "Generation: 42\t0.5976537496457666\n",
            "Generation: 43\t0.5986502595275387\n",
            "Generation: 44\t0.6137553851011719\n",
            "Generation: 45\t0.6177552964145456\n",
            "Generation: 46\t0.6164457180001524\n",
            "Generation: 47\t0.6132858520005323\n",
            "Generation: 48\t0.6098248847431835\n",
            "Generation: 49\t0.6074016200347852\n",
            "Generation: 50\t0.6053238869335381\n"
          ]
        }
      ]
    }
  ]
}